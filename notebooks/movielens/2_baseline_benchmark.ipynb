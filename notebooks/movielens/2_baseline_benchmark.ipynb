{
 "cells": [
  {
   "cell_type": "code",
   "execution_count": 1,
   "metadata": {},
   "outputs": [],
   "source": [
    "%load_ext autoreload\n",
    "%autoreload 2\n",
    "\n",
    "import IPython\n",
    "from pathlib import Path\n",
    "import os\n",
    "locals = IPython.extract_module_locals() # type: ignore\n",
    "notebook_name = \"/\".join(locals[1][\"__vsc_ipynb_file__\"].split(\"/\"))\n",
    "os.chdir(Path(notebook_name).parent.parent.parent)"
   ]
  },
  {
   "cell_type": "code",
   "execution_count": 2,
   "metadata": {},
   "outputs": [],
   "source": [
    "import numpy as np\n",
    "import pandas as pd\n",
    "import seaborn as sns\n",
    "import matplotlib.pyplot as plt\n",
    "import torch\n",
    "\n",
    "from recsys.evaluation.metrics import map_k, precision_k, recall_k"
   ]
  },
  {
   "cell_type": "code",
   "execution_count": null,
   "metadata": {},
   "outputs": [],
   "source": []
  },
  {
   "cell_type": "code",
   "execution_count": 5,
   "metadata": {},
   "outputs": [],
   "source": [
    "base_path = Path(\".data/hm/base\")\n",
    "intermediate_path = Path(\".data/movielens/intermediate/1\")\n",
    "\n",
    "ratings = pd.read_parquet(intermediate_path / \"ratings.parquet\")\n",
    "ratings_train = pd.read_parquet(intermediate_path / \"ratings_train.parquet\")\n",
    "ratings_validation = pd.read_parquet(intermediate_path / \"ratings_validation.parquet\")\n",
    "user_id_map = pd.read_parquet(intermediate_path / \"user_id_map.parquet\")\n",
    "movie_id_map = pd.read_parquet(intermediate_path / \"movie_id_map.parquet\")"
   ]
  },
  {
   "cell_type": "code",
   "execution_count": 10,
   "metadata": {},
   "outputs": [
    {
     "name": "stdout",
     "output_type": "stream",
     "text": [
      "162414 47396 15630129\n"
     ]
    }
   ],
   "source": [
    "n_users = user_id_map[\"userId\"].nunique()\n",
    "n_items = movie_id_map['movieId'].nunique()\n",
    "\n",
    "print(n_users, n_items, ratings.shape[0])"
   ]
  },
  {
   "cell_type": "code",
   "execution_count": null,
   "metadata": {},
   "outputs": [],
   "source": []
  },
  {
   "cell_type": "code",
   "execution_count": 11,
   "metadata": {},
   "outputs": [],
   "source": [
    "N_candid = 50\n",
    "\n",
    "random_candidates = np.random.randint(low=0, high=n_items, size=(n_users, N_candid))\n",
    "\n",
    "random_recommendations_df = pd.DataFrame({\n",
    "    'session_id': range(n_users),\n",
    "    'candidates': random_candidates.tolist()\n",
    "})"
   ]
  },
  {
   "cell_type": "code",
   "execution_count": null,
   "metadata": {},
   "outputs": [],
   "source": []
  },
  {
   "cell_type": "code",
   "execution_count": 12,
   "metadata": {},
   "outputs": [],
   "source": [
    "most_popular = ratings_train.groupby(\"item_id\")[\"rating\"].agg(['count', 'mean'])\n",
    "most_popular[\"score\"] = most_popular[\"count\"] * most_popular[\"mean\"]\n",
    "most_popular = most_popular.sort_values(by=\"score\", ascending=False)\n",
    "\n",
    "most_popular_recommendations_df = pd.DataFrame({\n",
    "    'session_id': range(n_users),\n",
    "    'candidates': [most_popular.index[:N_candid].tolist()] * n_users\n",
    "})"
   ]
  },
  {
   "cell_type": "code",
   "execution_count": null,
   "metadata": {},
   "outputs": [],
   "source": []
  },
  {
   "cell_type": "code",
   "execution_count": 13,
   "metadata": {},
   "outputs": [],
   "source": [
    "ground_truth = torch.from_numpy(ratings_validation[[\"session_id\", \"item_id\"]].values).T"
   ]
  },
  {
   "cell_type": "code",
   "execution_count": 14,
   "metadata": {},
   "outputs": [
    {
     "name": "stdout",
     "output_type": "stream",
     "text": [
      "MAP@12: 0.000879 | Precision@12: 0.000733 | Recall@12: 0.000303\n",
      "MAP@30: 0.000729 | Precision@30: 0.000601 | Recall@30: 0.000462\n",
      "MAP@50: 0.000670 | Precision@50: 0.000554 | Recall@50: 0.000842\n"
     ]
    }
   ],
   "source": [
    "recommendations_tensor = torch.from_numpy(np.array(random_recommendations_df['candidates'].tolist()))\n",
    "users_idx = torch.from_numpy(random_recommendations_df['session_id'].values)\n",
    "\n",
    "for k in [12, 30, 50]:\n",
    "    map = map_k(recommendations_tensor, ground_truth, k=k, users_idx=users_idx, n_users=n_users, n_items=n_items)\n",
    "    prec = precision_k(recommendations_tensor, ground_truth, k=k, users_idx=users_idx, n_users=n_users, n_items=n_items)\n",
    "    rec = recall_k(recommendations_tensor, ground_truth, k=k, users_idx=users_idx, n_users=n_users, n_items=n_items)\n",
    "\n",
    "    print(f\"MAP@{k}: {map:.6f} | Precision@{k}: {prec:.6f} | Recall@{k}: {rec:.6f}\")"
   ]
  },
  {
   "cell_type": "code",
   "execution_count": null,
   "metadata": {},
   "outputs": [],
   "source": []
  },
  {
   "cell_type": "code",
   "execution_count": 15,
   "metadata": {},
   "outputs": [
    {
     "name": "stdout",
     "output_type": "stream",
     "text": [
      "MAP@12: 0.092517 | Precision@12: 0.085166 | Recall@12: 0.025651\n",
      "MAP@30: 0.081008 | Precision@30: 0.068792 | Recall@30: 0.049847\n",
      "MAP@50: 0.074059 | Precision@50: 0.059613 | Recall@50: 0.071999\n"
     ]
    }
   ],
   "source": [
    "recommendations_tensor = torch.from_numpy(np.array(most_popular_recommendations_df['candidates'].tolist()))\n",
    "users_idx = torch.from_numpy(most_popular_recommendations_df['session_id'].values)\n",
    "\n",
    "for k in [12, 30, 50]:\n",
    "    map = map_k(recommendations_tensor, ground_truth, k=k, users_idx=users_idx, n_users=n_users, n_items=n_items)\n",
    "    prec = precision_k(recommendations_tensor, ground_truth, k=k, users_idx=users_idx, n_users=n_users, n_items=n_items)\n",
    "    rec = recall_k(recommendations_tensor, ground_truth, k=k, users_idx=users_idx, n_users=n_users, n_items=n_items)\n",
    "\n",
    "    print(f\"MAP@{k}: {map:.6f} | Precision@{k}: {prec:.6f} | Recall@{k}: {rec:.6f}\")"
   ]
  },
  {
   "cell_type": "code",
   "execution_count": null,
   "metadata": {},
   "outputs": [],
   "source": []
  }
 ],
 "metadata": {
  "kernelspec": {
   "display_name": ".venv",
   "language": "python",
   "name": "python3"
  },
  "language_info": {
   "codemirror_mode": {
    "name": "ipython",
    "version": 3
   },
   "file_extension": ".py",
   "mimetype": "text/x-python",
   "name": "python",
   "nbconvert_exporter": "python",
   "pygments_lexer": "ipython3",
   "version": "3.10.14"
  }
 },
 "nbformat": 4,
 "nbformat_minor": 2
}
